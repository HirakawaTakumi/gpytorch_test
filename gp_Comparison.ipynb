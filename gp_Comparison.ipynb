{
  "nbformat": 4,
  "nbformat_minor": 0,
  "metadata": {
    "colab": {
      "name": "gp_Comparison",
      "provenance": [],
      "collapsed_sections": [],
      "include_colab_link": true
    },
    "kernelspec": {
      "name": "python3",
      "display_name": "Python 3"
    },
    "accelerator": "GPU"
  },
  "cells": [
    {
      "cell_type": "markdown",
      "metadata": {
        "id": "view-in-github",
        "colab_type": "text"
      },
      "source": [
        "<a href=\"https://colab.research.google.com/github/HirakawaTakumi/gpytorch_test/blob/master/gp_Comparison.ipynb\" target=\"_parent\"><img src=\"https://colab.research.google.com/assets/colab-badge.svg\" alt=\"Open In Colab\"/></a>"
      ]
    },
    {
      "cell_type": "code",
      "metadata": {
        "id": "ATzo6k-VCCws",
        "colab_type": "code",
        "outputId": "fb672fc2-a90d-4414-cc5a-67504de30492",
        "colab": {
          "base_uri": "https://localhost:8080/",
          "height": 193
        }
      },
      "source": [
        "import torch \n",
        "import numpy as np\n",
        "import time \n",
        "import math\n",
        "import matplotlib.pyplot as plt\n",
        "import time\n",
        "\n",
        "!pip install gpytorch\n",
        "import gpytorch"
      ],
      "execution_count": 0,
      "outputs": [
        {
          "output_type": "stream",
          "text": [
            "Collecting gpytorch\n",
            "\u001b[?25l  Downloading https://files.pythonhosted.org/packages/a7/e4/e74dc12c6d07a5d8628dfb573b01297f7c2b44eec524be4b401c0782d39c/gpytorch-0.3.5.tar.gz (211kB)\n",
            "\u001b[K     |████████████████████████████████| 215kB 9.2MB/s \n",
            "\u001b[?25hBuilding wheels for collected packages: gpytorch\n",
            "  Building wheel for gpytorch (setup.py) ... \u001b[?25l\u001b[?25hdone\n",
            "  Created wheel for gpytorch: filename=gpytorch-0.3.5-py2.py3-none-any.whl size=349720 sha256=896b4dd52bd85aed1d9a369ee786c0336339745dc2d705a4baf01249fe0b14e6\n",
            "  Stored in directory: /root/.cache/pip/wheels/d6/31/88/c43a94e0073a54056ac663366f2195de36535b38a81a378196\n",
            "Successfully built gpytorch\n",
            "Installing collected packages: gpytorch\n",
            "Successfully installed gpytorch-0.3.5\n"
          ],
          "name": "stdout"
        }
      ]
    },
    {
      "cell_type": "code",
      "metadata": {
        "id": "J5FQYdEBCSPa",
        "colab_type": "code",
        "outputId": "2fa869b8-af6c-4393-97ba-dbfe6c25d8c4",
        "colab": {
          "base_uri": "https://localhost:8080/",
          "height": 286
        }
      },
      "source": [
        "x_train  = torch.linspace(0,1,200)\n",
        "y_train = torch.sin(x_train * (2 * math.pi)) + torch.randn(x_train.size()) * 0.2\n",
        "xx = torch.linspace(0,1,200)\n",
        "plt.scatter(x_train,y_train)"
      ],
      "execution_count": 0,
      "outputs": [
        {
          "output_type": "execute_result",
          "data": {
            "text/plain": [
              "<matplotlib.collections.PathCollection at 0x7f02901c97f0>"
            ]
          },
          "metadata": {
            "tags": []
          },
          "execution_count": 2
        },
        {
          "output_type": "display_data",
          "data": {
            "image/png": "[encoded data removed]",
            "text/plain": [
              "<Figure size 432x288 with 1 Axes>"
            ]
          },
          "metadata": {
            "tags": []
          }
        }
      ]
    },
    {
      "cell_type": "markdown",
      "metadata": {
        "id": "Igq7g7vXCfPn",
        "colab_type": "text"
      },
      "source": [
        "##フルスクラッチ実装"
      ]
    },
    {
      "cell_type": "code",
      "metadata": {
        "id": "h6ZHxSHDCkL_",
        "colab_type": "code",
        "colab": {}
      },
      "source": [
        "def kernel_function(x,x_dot):\n",
        "  theta_1 = 1.0\n",
        "  theta_2 = 1.0\n",
        "  return theta_1*torch.exp(-(x-x_dot)**2/theta_2) \n"
      ],
      "execution_count": 0,
      "outputs": []
    },
    {
      "cell_type": "code",
      "metadata": {
        "id": "rIhRhTbNCrVv",
        "colab_type": "code",
        "colab": {}
      },
      "source": [
        "def gpr(x_train,x_dot,y_train,kernel_function):\n",
        "  N = len(x_train)\n",
        "  K =  torch.zeros((N,N))\n",
        "  theta3 = 0.1\n",
        "  for i in range(N):\n",
        "    for j in range(N):\n",
        "      K[i,j] = kernel_function(x_train[i],x_train[j])\n",
        "      if j==i:\n",
        "        K[i,j]+= theta3 #誤差カーネル\n",
        "  K_inv = torch.inverse(K)\n",
        "  yy = torch.matmul(K_inv,y_train)\n",
        "  #print(K) \n",
        "  #print(yy)\n",
        "  #plt.imshow(K,cmap=\"Greys_r\")\n",
        "\n",
        "  M = len(x_dot)\n",
        "  k = torch.zeros((M,N))\n",
        "  \n",
        "  \n",
        "  time1 = time.perf_counter()\n",
        "  for m in range(M):\n",
        "    for n in range(N):\n",
        "      k[m,n] = kernel_function(x_train[n],x_dot[m])\n",
        "    s = kernel_function(x_dot[m],x_dot[m]) + theta3\n",
        "    \n",
        "  mu =torch.matmul(k,yy)\n",
        "  k_Kinv = torch.matmul(k,K_inv)\n",
        "  var = s - torch.matmul(k_Kinv,torch.t(k))\n",
        "  print(time.perf_counter()-time1)\n",
        "  #print(k)\n",
        "  #print(s)\n",
        "  #print(mu)\n",
        "  #print(var)\n",
        "\n",
        "  return mu,var"
      ],
      "execution_count": 0,
      "outputs": []
    },
    {
      "cell_type": "code",
      "metadata": {
        "id": "EaFPQrL4DGnO",
        "colab_type": "code",
        "outputId": "117efb52-5a68-4024-96a9-2eaa26acb301",
        "colab": {
          "base_uri": "https://localhost:8080/",
          "height": 34
        }
      },
      "source": [
        "mu,var = gpr(x_train,xx,y_train,kernel_function)"
      ],
      "execution_count": 0,
      "outputs": [
        {
          "output_type": "stream",
          "text": [
            "1.535134279999994\n"
          ],
          "name": "stdout"
        }
      ]
    },
    {
      "cell_type": "code",
      "metadata": {
        "id": "XajYgZbcDQfG",
        "colab_type": "code",
        "outputId": "42e23695-17d6-4e90-b6df-73db1805fbe5",
        "colab": {
          "base_uri": "https://localhost:8080/",
          "height": 304
        }
      },
      "source": [
        "mu = mu.numpy().ravel()#行列→1次元の配列の変換\n",
        "xx.numpy().ravel()\n",
        "plt.plot (x_train.numpy(), y_train.numpy(), 'bx', markersize=8)\n",
        "plt.plot (xx.numpy(), mu, 'b-')\n",
        "plt.fill_between(xx, mu + 2*torch.sqrt(torch.diag(var)).numpy(), mu - 2*torch.sqrt(torch.diag(var)).numpy(),alpha = 0.6)\n",
        "plt.legend()"
      ],
      "execution_count": 0,
      "outputs": [
        {
          "output_type": "stream",
          "text": [
            "No handles with labels found to put in legend.\n"
          ],
          "name": "stderr"
        },
        {
          "output_type": "execute_result",
          "data": {
            "text/plain": [
              "<matplotlib.legend.Legend at 0x7f028d97c400>"
            ]
          },
          "metadata": {
            "tags": []
          },
          "execution_count": 6
        },
        {
          "output_type": "display_data",
          "data": {
            "image/png": "[encoded data removed]",
            "text/plain": [
              "<Figure size 432x288 with 1 Axes>"
            ]
          },
          "metadata": {
            "tags": []
          }
        }
      ]
    },
    {
      "cell_type": "markdown",
      "metadata": {
        "id": "FN-hUZ2IMRcu",
        "colab_type": "text"
      },
      "source": [
        "##gpytorchによる実装"
      ]
    },
    {
      "cell_type": "code",
      "metadata": {
        "id": "1soGUYlDMfjU",
        "colab_type": "code",
        "colab": {}
      },
      "source": [
        "class FancyGPWithPriors(gpytorch.models.ExactGP):\n",
        "    def __init__(self, train_x, train_y, likelihood):\n",
        "        super(FancyGPWithPriors, self).__init__(train_x, train_y, likelihood)\n",
        "        self.mean_module = gpytorch.means.ConstantMean()\n",
        "        self.covar_module = gpytorch.kernels.ScaleKernel(gpytorch.kernels.RBFKernel())\n",
        "    def forward(self, x):\n",
        "        mean_x = self.mean_module(x)\n",
        "        covar_x = self.covar_module(x)\n",
        "        return gpytorch.distributions.MultivariateNormal(mean_x, covar_x)\n",
        "\n",
        "likelihood = gpytorch.likelihoods.GaussianLikelihood(\n",
        "    noise_constraint=gpytorch.constraints.GreaterThan(1e-2),\n",
        ")\n",
        "\n",
        "model = FancyGPWithPriors(x_train, y_train, likelihood)"
      ],
      "execution_count": 0,
      "outputs": []
    },
    {
      "cell_type": "markdown",
      "metadata": {
        "id": "UPD_LHpOvNxs",
        "colab_type": "text"
      },
      "source": [
        "ハイパーパラメータ設定（できてるのか？）"
      ]
    },
    {
      "cell_type": "code",
      "metadata": {
        "id": "l2JaCtvcUVLU",
        "colab_type": "code",
        "outputId": "0a0e6e71-be70-431e-e12a-52fd56ef192e",
        "colab": {
          "base_uri": "https://localhost:8080/",
          "height": 34
        }
      },
      "source": [
        "hypers = {\n",
        "    'likelihood.noise_covar.noise': torch.tensor(0.2),\n",
        "    'covar_module.base_kernel.lengthscale': torch.tensor(1.),\n",
        "    'covar_module.outputscale': torch.tensor(0.68)\n",
        "}\n",
        "\n",
        "model.initialize(**hypers)\n",
        "print(\n",
        "    model.likelihood.noise_covar.noise.item(),\n",
        "    model.covar_module.base_kernel.lengthscale.item(),\n",
        "    model.covar_module.outputscale.item()\n",
        ")"
      ],
      "execution_count": 0,
      "outputs": [
        {
          "output_type": "stream",
          "text": [
            "0.19999998807907104 1.0 0.6800000071525574\n"
          ],
          "name": "stdout"
        }
      ]
    },
    {
      "cell_type": "markdown",
      "metadata": {
        "id": "dCxqMc88vX0R",
        "colab_type": "text"
      },
      "source": [
        "モデルを評価モードにして実行"
      ]
    },
    {
      "cell_type": "code",
      "metadata": {
        "id": "oypo_GW4S379",
        "colab_type": "code",
        "outputId": "c93ee71c-43bf-4830-a01c-41a55598d343",
        "colab": {
          "base_uri": "https://localhost:8080/",
          "height": 70
        }
      },
      "source": [
        "model.eval()\n",
        "likelihood.eval()\n",
        "\n",
        "\n",
        "t = time.perf_counter()\n",
        "observed_pred = likelihood(model(xx))\n",
        "print(\"process time:%f\"%(time.perf_counter()-t))"
      ],
      "execution_count": 0,
      "outputs": [
        {
          "output_type": "stream",
          "text": [
            "process time:0.071375\n"
          ],
          "name": "stdout"
        },
        {
          "output_type": "stream",
          "text": [
            "/usr/local/lib/python3.6/dist-packages/gpytorch/models/exact_gp.py:247: UserWarning: The input matches the stored training data. Did you forget to call model.train()?\n",
            "  \"The input matches the stored training data. Did you forget to call model.train()?\", UserWarning\n"
          ],
          "name": "stderr"
        }
      ]
    },
    {
      "cell_type": "code",
      "metadata": {
        "id": "W9LciQHdTFv9",
        "colab_type": "code",
        "outputId": "699a735e-58d8-466f-9293-fa7f568c9d60",
        "colab": {
          "base_uri": "https://localhost:8080/",
          "height": 233
        }
      },
      "source": [
        "f,ax = plt.subplots(1,1,figsize=(4,3))\n",
        "\n",
        "lower,upper =observed_pred.confidence_region()\n",
        "\n",
        "ax.plot(x_train.numpy(),y_train.numpy(),'kx')\n",
        "\n",
        "ax.plot(xx.numpy(),observed_pred.mean.detach().numpy(),'b')\n",
        "\n",
        "ax.fill_between(xx,lower.detach().numpy(),upper.detach().numpy(),alpha = 0.5)\n",
        "\n",
        "ax.set_ylim([-3,3])\n",
        "ax.legend(['observed data' ,'mean', 'confidence'])"
      ],
      "execution_count": 0,
      "outputs": [
        {
          "output_type": "execute_result",
          "data": {
            "text/plain": [
              "<matplotlib.legend.Legend at 0x7f028d8964e0>"
            ]
          },
          "metadata": {
            "tags": []
          },
          "execution_count": 12
        },
        {
          "output_type": "display_data",
          "data": {
            "image/png": "[encoded data removed]",
            "text/plain": [
              "<Figure size 288x216 with 1 Axes>"
            ]
          },
          "metadata": {
            "tags": []
          }
        }
      ]
    }
  ]
}